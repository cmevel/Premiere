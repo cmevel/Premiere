{
 "cells": [
  {
   "cell_type": "markdown",
   "metadata": {
    "colab_type": "text",
    "id": "P-SzqVtnRc2Y"
   },
   "source": [
    "# **Correction du TP2 sur les suites**"
   ]
  },
  {
   "cell_type": "markdown",
   "metadata": {},
   "source": [
    "**Question 1a:**"
   ]
  },
  {
   "cell_type": "code",
   "execution_count": 22,
   "metadata": {},
   "outputs": [
    {
     "data": {
      "text/plain": [
       "157.0"
      ]
     },
     "execution_count": 22,
     "metadata": {},
     "output_type": "execute_result"
    }
   ],
   "source": [
    "3.1*50+2"
   ]
  },
  {
   "cell_type": "code",
   "execution_count": 23,
   "metadata": {},
   "outputs": [
    {
     "data": {
      "text/plain": [
       "197.3"
      ]
     },
     "execution_count": 23,
     "metadata": {},
     "output_type": "execute_result"
    }
   ],
   "source": [
    "3.1*63+2"
   ]
  },
  {
   "cell_type": "markdown",
   "metadata": {},
   "source": [
    "**Question 1b:**"
   ]
  },
  {
   "cell_type": "code",
   "execution_count": 24,
   "metadata": {},
   "outputs": [
    {
     "data": {
      "text/plain": [
       "6200.0"
      ]
     },
     "execution_count": 24,
     "metadata": {},
     "output_type": "execute_result"
    }
   ],
   "source": [
    "2.5*50**2-50"
   ]
  },
  {
   "cell_type": "code",
   "execution_count": 25,
   "metadata": {},
   "outputs": [
    {
     "data": {
      "text/plain": [
       "9859.5"
      ]
     },
     "execution_count": 25,
     "metadata": {},
     "output_type": "execute_result"
    }
   ],
   "source": [
    "2.5*63**2-63"
   ]
  },
  {
   "cell_type": "markdown",
   "metadata": {
    "colab_type": "text",
    "id": "W_w49Pf0R-DC"
   },
   "source": [
    "**Question 2b:**"
   ]
  },
  {
   "cell_type": "code",
   "execution_count": 8,
   "metadata": {
    "colab": {
     "base_uri": "https://localhost:8080/",
     "height": 34
    },
    "colab_type": "code",
    "id": "OULBYbdORvBi",
    "outputId": "ff6ed233-412c-4584-d5f3-1e2b56a69961"
   },
   "outputs": [
    {
     "name": "stdout",
     "output_type": "stream",
     "text": [
      "2445.2079104736085\n"
     ]
    }
   ],
   "source": [
    "u=1\n",
    "for i in range(1,51):\n",
    "    u=1.1*u+2\n",
    "print(u) \n",
    "#le print est ici là juste pour enclencher le programme. "
   ]
  },
  {
   "cell_type": "markdown",
   "metadata": {
    "colab_type": "text",
    "id": "nog9vG8qSLPo"
   },
   "source": [
    "**Question 2c:**"
   ]
  },
  {
   "cell_type": "code",
   "execution_count": 9,
   "metadata": {
    "colab": {
     "base_uri": "https://localhost:8080/",
     "height": 34
    },
    "colab_type": "code",
    "id": "kxd3MTNZSKZi",
    "outputId": "b8f98f6e-f456-47b9-a5b7-a4291ec3fe23"
   },
   "outputs": [
    {
     "name": "stdout",
     "output_type": "stream",
     "text": [
      "8490.566306822211\n"
     ]
    }
   ],
   "source": [
    "u=1\n",
    "for i in range(1,64):\n",
    "    u=1.1*u+2\n",
    "print(u)"
   ]
  },
  {
   "cell_type": "markdown",
   "metadata": {
    "colab_type": "text",
    "id": "2goncHLyS6md"
   },
   "source": [
    "**Question 3a:**"
   ]
  },
  {
   "cell_type": "code",
   "execution_count": 10,
   "metadata": {
    "colab": {
     "base_uri": "https://localhost:8080/",
     "height": 34
    },
    "colab_type": "code",
    "id": "L1O3IqnFS8r-",
    "outputId": "3f75863b-2c03-4235-dbb3-c03d38973287"
   },
   "outputs": [
    {
     "name": "stdout",
     "output_type": "stream",
     "text": [
      "696.407818680498\n"
     ]
    }
   ],
   "source": [
    "u=3\n",
    "for i in range(1,51):\n",
    "    u=0.9*u+70\n",
    "print(u)"
   ]
  },
  {
   "cell_type": "markdown",
   "metadata": {
    "colab_type": "text",
    "id": "Vmlcp0vUTChw"
   },
   "source": [
    "**Question 3a bis:**"
   ]
  },
  {
   "cell_type": "code",
   "execution_count": 11,
   "metadata": {
    "colab": {
     "base_uri": "https://localhost:8080/",
     "height": 34
    },
    "colab_type": "code",
    "id": "rHB_MsQsTL1x",
    "outputId": "f5a5c81d-c4ea-4d69-e1cc-3201186d01a9"
   },
   "outputs": [
    {
     "name": "stdout",
     "output_type": "stream",
     "text": [
      "699.0869157054797\n"
     ]
    }
   ],
   "source": [
    "u=3\n",
    "for i in range(1,64):\n",
    "    u=0.9*u+70\n",
    "print(u)"
   ]
  },
  {
   "cell_type": "markdown",
   "metadata": {
    "colab_type": "text",
    "id": "h7b8uymCTXLh"
   },
   "source": [
    "**Question 3b:**"
   ]
  },
  {
   "cell_type": "code",
   "execution_count": 12,
   "metadata": {
    "colab": {
     "base_uri": "https://localhost:8080/",
     "height": 34
    },
    "colab_type": "code",
    "id": "x3-ut7MdTYyK",
    "outputId": "178acd88-71dc-4301-ac88-d762f4e5ad1e"
   },
   "outputs": [
    {
     "name": "stdout",
     "output_type": "stream",
     "text": [
      "442771.5315370035\n"
     ]
    }
   ],
   "source": [
    "u=2\n",
    "for i in range(1,51):\n",
    "    u=1.3*u-i+4 #contrairement à ce que j'ai dit en cours...\n",
    "                #il n'y a pas de décalage à faire car i correspond au rang n.\n",
    "                # je n'avais pas relu l'énoncé... Oups !\n",
    "print(u)"
   ]
  },
  {
   "cell_type": "code",
   "execution_count": 13,
   "metadata": {
    "colab": {
     "base_uri": "https://localhost:8080/",
     "height": 34
    },
    "colab_type": "code",
    "id": "5rjyjd-XTkl5",
    "outputId": "891a8dca-a805-4206-9cd6-e70837b216ca"
   },
   "outputs": [
    {
     "name": "stdout",
     "output_type": "stream",
     "text": [
      "13405577.020906799\n"
     ]
    }
   ],
   "source": [
    "u=2\n",
    "for i in range(1,64):\n",
    "    u=1.3*u-i+4\n",
    "print(u)"
   ]
  },
  {
   "cell_type": "markdown",
   "metadata": {
    "colab_type": "text",
    "id": "-KLwHUZiTs2W"
   },
   "source": [
    "**Question 4:**"
   ]
  },
  {
   "cell_type": "code",
   "execution_count": 14,
   "metadata": {
    "colab": {
     "base_uri": "https://localhost:8080/",
     "height": 34
    },
    "colab_type": "code",
    "id": "g0y9d5KYT2hS",
    "outputId": "69dea9d2-072e-4c39-ae71-915c139d9704"
   },
   "outputs": [
    {
     "name": "stdout",
     "output_type": "stream",
     "text": [
      "282.84086582364876\n"
     ]
    }
   ],
   "source": [
    "def terme(n):\n",
    "    v=1\n",
    "    for i in range(1,n+1):\n",
    "        v=1.1*v+2\n",
    "    return v\n",
    "\n",
    "print(terme(28))\n",
    "#Le print ici est inutile et même peu heureux car il est \n",
    "#préférable d'utiliser une console comme fait ensuite."
   ]
  },
  {
   "cell_type": "code",
   "execution_count": 15,
   "metadata": {},
   "outputs": [
    {
     "data": {
      "text/plain": [
       "282.84086582364876"
      ]
     },
     "execution_count": 15,
     "metadata": {},
     "output_type": "execute_result"
    }
   ],
   "source": [
    "#Fonctionnement de la fonction terme(n):\n",
    "terme(28)"
   ]
  },
  {
   "cell_type": "code",
   "execution_count": 16,
   "metadata": {
    "colab": {
     "base_uri": "https://localhost:8080/",
     "height": 34
    },
    "colab_type": "code",
    "id": "rRrlweCWURFg",
    "outputId": "8032fbd3-de91-4394-b11b-97e5125a8b27"
   },
   "outputs": [],
   "source": [
    "def terme(n):\n",
    "    v=1\n",
    "    for i in range(1,n+1):\n",
    "        v=1.1*v+2\n",
    "    return v"
   ]
  },
  {
   "cell_type": "code",
   "execution_count": 17,
   "metadata": {},
   "outputs": [
    {
     "data": {
      "text/plain": [
       "2355717.4386610836"
      ]
     },
     "execution_count": 17,
     "metadata": {},
     "output_type": "execute_result"
    }
   ],
   "source": [
    "#Fonctionnement de la fonction terme(n):\n",
    "terme(122)"
   ]
  },
  {
   "cell_type": "markdown",
   "metadata": {
    "colab_type": "text",
    "id": "ZHR2lx8kUYk5"
   },
   "source": [
    "**Question 5b:**"
   ]
  },
  {
   "cell_type": "code",
   "execution_count": 18,
   "metadata": {
    "colab": {
     "base_uri": "https://localhost:8080/",
     "height": 34
    },
    "colab_type": "code",
    "id": "e4aEjJmvUfOw",
    "outputId": "4a475aeb-cbd9-4685-d6db-ee760db29779"
   },
   "outputs": [],
   "source": [
    "def rang():\n",
    "    u=1\n",
    "    n=0\n",
    "    while (u<=1000000):\n",
    "        u=1.1*u+2\n",
    "        n=n+1\n",
    "    return(n)"
   ]
  },
  {
   "cell_type": "code",
   "execution_count": 19,
   "metadata": {},
   "outputs": [
    {
     "data": {
      "text/plain": [
       "114"
      ]
     },
     "execution_count": 19,
     "metadata": {},
     "output_type": "execute_result"
    }
   ],
   "source": [
    "#Fonctionnement de la fonction rang():\n",
    "rang()"
   ]
  },
  {
   "cell_type": "markdown",
   "metadata": {
    "colab_type": "text",
    "id": "hUgpHyx5Uj4c"
   },
   "source": [
    "**Question 5c:**"
   ]
  },
  {
   "cell_type": "code",
   "execution_count": 20,
   "metadata": {
    "colab": {
     "base_uri": "https://localhost:8080/",
     "height": 34
    },
    "colab_type": "code",
    "id": "AevSRzW9UldU",
    "outputId": "64b9f0eb-434d-4ebe-f3e2-142b9fbe4992"
   },
   "outputs": [],
   "source": [
    "def depasse(A):\n",
    "    u=1\n",
    "    n=0\n",
    "    while u<A:\n",
    "        u=1.1*u+2\n",
    "        n=n+1\n",
    "    return(n)"
   ]
  },
  {
   "cell_type": "code",
   "execution_count": 21,
   "metadata": {},
   "outputs": [
    {
     "data": {
      "text/plain": [
       "114"
      ]
     },
     "execution_count": 21,
     "metadata": {},
     "output_type": "execute_result"
    }
   ],
   "source": [
    "#Fonctionnement de la fonction depasse(A):\n",
    "depasse(1000000)"
   ]
  },
  {
   "cell_type": "code",
   "execution_count": null,
   "metadata": {},
   "outputs": [],
   "source": []
  }
 ],
 "metadata": {
  "colab": {
   "name": "CorrectionDMsuitesSpéMathsPremière.ipynb",
   "provenance": []
  },
  "kernelspec": {
   "display_name": "Python 3",
   "language": "python",
   "name": "python3"
  },
  "language_info": {
   "codemirror_mode": {
    "name": "ipython",
    "version": 3
   },
   "file_extension": ".py",
   "mimetype": "text/x-python",
   "name": "python",
   "nbconvert_exporter": "python",
   "pygments_lexer": "ipython3",
   "version": "3.7.9"
  }
 },
 "nbformat": 4,
 "nbformat_minor": 1
}
