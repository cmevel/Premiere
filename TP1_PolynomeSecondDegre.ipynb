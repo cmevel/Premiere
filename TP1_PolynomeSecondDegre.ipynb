{
 "cells": [
  {
   "cell_type": "markdown",
   "metadata": {},
   "source": [
    "# TP 1 : Fonctions polynômes du second degré Partie 1"
   ]
  },
  {
   "cell_type": "markdown",
   "metadata": {},
   "source": [
    "***Situation 1 : (Déclic 1ère p33 Hachette(2019))***   \n",
    "\n",
    "Ci-dessous un programme, qui définit la fonction ***racine1***, dans lequel ***L*** est une liste de nombres et les variables *k* et *n* des entiers naturels.   \n",
    "\n",
    "Ci-dessous sa traduction en langage Python:   \n"
   ]
  },
  {
   "cell_type": "code",
   "execution_count": null,
   "metadata": {},
   "outputs": [],
   "source": [
    "def racine1(n,a,b,c):\n",
    "    L=[]                          #création d'une liste vide\n",
    "    for k in range(-n,n+1):       #Pour k allant de -n à n\n",
    "        if a*k**2+b*k+c==0:\n",
    "            L.append(k)           # ajoute la valeur k à la fin de la liste L\n",
    "    return L"
   ]
  },
  {
   "cell_type": "markdown",
   "metadata": {},
   "source": [
    "1. À quoi correspndent les éventuelles valeurs stockées dans la liste *L* ?   \n",
    "&ensp;Quelles sont les longueurs possibles de la liste *L* ?"
   ]
  },
  {
   "cell_type": "markdown",
   "metadata": {},
   "source": [
    "2. Exécuter à la main la ***fonction racine1*** dans chacun des cas suivants.\n",
    "  * $n=2 ; a=2 ; b=-3$ et $c=1$\n",
    "  * $n=2 ; a=2 ; b=7$ et $c=-15$"
   ]
  },
  {
   "cell_type": "markdown",
   "metadata": {},
   "source": [
    "3. Exécuter le programme et vérifier les résultats obtenus à la question 2."
   ]
  },
  {
   "cell_type": "code",
   "execution_count": null,
   "metadata": {},
   "outputs": [],
   "source": [
    "# Exécuter ici le programme ici "
   ]
  },
  {
   "cell_type": "markdown",
   "metadata": {},
   "source": [
    "4. Qu'obtient-on en modifiant la valeur de *n* ?"
   ]
  },
  {
   "cell_type": "markdown",
   "metadata": {},
   "source": [
    "5. Quel est le rôle de cet algorithme ? Quelles en sont les limites ?"
   ]
  },
  {
   "cell_type": "markdown",
   "metadata": {},
   "source": [
    "***Situation 2 : (Maths 1ère p53 collection Metamaths Belin(2019)***"
   ]
  },
  {
   "cell_type": "markdown",
   "metadata": {},
   "source": [
    "Un éditeur veut modifier la taille des marges des pages de leur prochaine bande dessinée.   \n",
    "Une page est en format A4 (21 cm par 29,7cm) et il souhaite laisser 360 cm² comme superficie de zone de dessin.   \n",
    "On note *x* la taille de la marge horizontale et verticale.    \n",
    "On définit la fonction *f* qui à *x* associe l'aire de la zone de dessin.   \n",
    "![title](image1TP1.jpg)"
   ]
  },
  {
   "cell_type": "markdown",
   "metadata": {},
   "source": [
    "1. Dans quel intervalle *x* peut-il varier ?\n",
    "2. Montrer que la forme développée de *f(x)* est *4x²- 101,4x + 623,7*\n",
    "3. Tracer la représentation graphique de la fonction f à l'aide de l'éditeur graphique de Python."
   ]
  },
  {
   "cell_type": "code",
   "execution_count": 9,
   "metadata": {},
   "outputs": [
    {
     "data": {
      "image/png": "[encoded data removed]",
      "text/plain": [
       "<Figure size 432x288 with 1 Axes>"
      ]
     },
     "metadata": {
      "needs_background": "light"
     },
     "output_type": "display_data"
    }
   ],
   "source": [
    "from pylab import *\n",
    "\n",
    "#Fonction f\n",
    "def f(x) :\n",
    "    return 4*x**2-101.4*x+623.7\n",
    "\n",
    "#Représentation graphique\n",
    "x=linspace(0,10.5,100)  #Calcul de 100 valeurs comprises entre 0 et 10.5\n",
    "y=f(x)                  #Calcul des ordonnées des points de la courbe correspondante\n",
    "\n",
    "xlim(0,11)    #axe des abscisses\n",
    "ylim=(0,650)  #axe des ordonnées\n",
    "\n",
    "plot(x,y,label=\"Courbe f\")  #Détermination des points de la courbe\n",
    "\n",
    "legend()   #Affichage de la légende\n",
    "grid()     #Affichage de la grille\n",
    "\n",
    "show()     #Affichage de la courbe"
   ]
  },
  {
   "cell_type": "markdown",
   "metadata": {},
   "source": [
    "* En déduire le sens de variation de la fonction sur [0 ; 10,5]."
   ]
  },
  {
   "cell_type": "markdown",
   "metadata": {},
   "source": [
    "4. Pour réaliser le souhait de l'éditeur, quelle équation faut-il résoudre ?   \n",
    "On admet que l'équation trouvée à la question ***4.a*** admet au moins une solution dans l'intervalle [0;10.5] Pourquoi est-elle unique ?"
   ]
  },
  {
   "cell_type": "markdown",
   "metadata": {},
   "source": [
    "5. On a écrit le programme en Python ci-dessous."
   ]
  },
  {
   "cell_type": "code",
   "execution_count": 4,
   "metadata": {},
   "outputs": [],
   "source": [
    "def f(x) :\n",
    "    return 4*x**2-101.4*x+623.7\n",
    "\n",
    "def solution(a):\n",
    "    while f(a)>360:\n",
    "        a=a+0.01\n",
    "    return a"
   ]
  },
  {
   "cell_type": "markdown",
   "metadata": {},
   "source": [
    "* Quel est le rôle de ce programme ?\n",
    "* Que renvoie ***solution(3)*** ? Pourquoi ?"
   ]
  },
  {
   "cell_type": "code",
   "execution_count": null,
   "metadata": {},
   "outputs": [],
   "source": [
    "# tester ici"
   ]
  },
  {
   "cell_type": "markdown",
   "metadata": {},
   "source": [
    "6. Que se passe-t-il lorsqu'on exécute ***solution(25)*** ?   \n",
    "Compléter le programme précédent avec un test sur l'argument de la fonction *solution* afin qu'elle renvoie toujours une réponse adaptée au problème initial posé."
   ]
  },
  {
   "cell_type": "code",
   "execution_count": null,
   "metadata": {},
   "outputs": [],
   "source": [
    "#Programme à faire ici!"
   ]
  },
  {
   "cell_type": "markdown",
   "metadata": {},
   "source": [
    "***Situation 3 : Algorithme par balayage (Maths Delagrave page 98)*** \n",
    "\n",
    "On donne ci-dessous un programme écrit en Python."
   ]
  },
  {
   "cell_type": "code",
   "execution_count": null,
   "metadata": {},
   "outputs": [],
   "source": [
    "from math import *\n",
    "\n",
    "a=1\n",
    "b=-1\n",
    "c=-1\n",
    "\n",
    "def f(x):\n",
    "    global a,b,c\n",
    "    return a*x**2+b*x+c\n",
    "\n",
    "def balayage_zero(xmin,pas,f):\n",
    "    x=xmin\n",
    "    print(x,f(x),f(xmin))\n",
    "    while f(x)*f(xmin)>0:\n",
    "        x=x+pas\n",
    "        print(x,f(x),f(xmin))\n",
    "    return x-pas\n",
    "\n",
    "solution =balayage_zero(0,0.001,f)\n",
    "\n",
    "print(solution)"
   ]
  },
  {
   "cell_type": "markdown",
   "metadata": {},
   "source": [
    "1. Faire fonctionner à la main ce programme avec *a=1, b=-1* et *c=-1*\n",
    "En déduire son rôle.\n",
    "2. Vérifier à l'aide de la méthode vue ci-dessus que la solution proposée est cohérente.\n",
    "3. Pourquoi le test de la ligne 14 fonctionne-t-il quel que soit le signe du nombre *a*?\n",
    "4. Comment trouver la solution négative de cette équation ?\n",
    "5. Est-ce que le programme proposé permet toujours de trouver la solution à une équation du second degré ?\n",
    "6. Tester le programme pour résoudre les équations suivantes :\n",
    "    * 2x² - 10x + 12 = 0\n",
    "    * 0.5x² - 2x + 2 = 0\n",
    "    * 2x² + 3x + 4 = 0"
   ]
  },
  {
   "cell_type": "code",
   "execution_count": null,
   "metadata": {},
   "outputs": [],
   "source": [
    "#Tester ici!"
   ]
  }
 ],
 "metadata": {
  "kernelspec": {
   "display_name": "Python 3",
   "language": "python",
   "name": "python3"
  },
  "language_info": {
   "codemirror_mode": {
    "name": "ipython",
    "version": 3
   },
   "file_extension": ".py",
   "mimetype": "text/x-python",
   "name": "python",
   "nbconvert_exporter": "python",
   "pygments_lexer": "ipython3",
   "version": "3.7.6"
  }
 },
 "nbformat": 4,
 "nbformat_minor": 4
}
