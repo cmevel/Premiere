{
 "cells": [
  {
   "cell_type": "markdown",
   "metadata": {},
   "source": [
    "# TP 2 : Calculs de termes de suites et Python"
   ]
  },
  {
   "cell_type": "markdown",
   "metadata": {},
   "source": [
    "**1°) Question 1 :** des suites définies par leur terme général"
   ]
  },
  {
   "cell_type": "markdown",
   "metadata": {},
   "source": [
    "$\\quad$a) Soit $(u_n)$ la suite définie par $u_n=3,1n+2$ pour tout $n\\ge0$. \n",
    "$$\\qquad$$ Calculer $u_{50}$ et $u_{63}$ directement dans l'interpréteur de commandes python situé en-dessous ou sur l'outil Trinket présent sur mon site."
   ]
  },
  {
   "cell_type": "code",
   "execution_count": null,
   "metadata": {},
   "outputs": [],
   "source": [
    "def Suite_u(n):\n",
    "    return ...   #Compléter"
   ]
  },
  {
   "cell_type": "markdown",
   "metadata": {},
   "source": [
    "**Réponses :**   $u_{50}=\\qquad\\qquad$ et    $u_{63}=\\qquad$"
   ]
  },
  {
   "cell_type": "markdown",
   "metadata": {},
   "source": [
    "b) Soit $(v_n)$ la suite définie par $v_n=2,5n²-n$ pour tout $n\\ge0$.<br/> **Remarque :** en Python, $5²$ s'écrit 5\\**2.\n",
    "$$\\qquad$$ Calculer $v_{50}$ et $v_{63}$ directement dans l'interpréteur de commandes python situé en-dessous ou sur l'outil Trinket présent sur mon site."
   ]
  },
  {
   "cell_type": "code",
   "execution_count": 1,
   "metadata": {},
   "outputs": [],
   "source": [
    "def Suite_v(n):\n",
    "    return ...   #Compléter"
   ]
  },
  {
   "cell_type": "markdown",
   "metadata": {},
   "source": [
    "**Réponses :**   $v_{50}=\\qquad\\qquad$ et    $v_{63}=\\qquad$"
   ]
  },
  {
   "cell_type": "markdown",
   "metadata": {},
   "source": [
    "**2°) Question 2 :** suite définie par une relation de récurrence"
   ]
  },
  {
   "cell_type": "markdown",
   "metadata": {},
   "source": [
    "Soit $(u_n)$ la suite définie par $u_0=1$ et $u_{n+1}=1,1u_n+2$ pour tout $n\\ge0$. "
   ]
  },
  {
   "cell_type": "markdown",
   "metadata": {},
   "source": [
    "* Exécuter le programme suivant:"
   ]
  },
  {
   "cell_type": "code",
   "execution_count": 3,
   "metadata": {},
   "outputs": [
    {
     "name": "stdout",
     "output_type": "stream",
     "text": [
      "2445.2079104736085\n"
     ]
    }
   ],
   "source": [
    "u=1\n",
    "for i in range (1,51):  #Se traduit par \"pour l'entier i allant de 1 à 50\"\n",
    "    u=1.1*u+2\n",
    "print(u)"
   ]
  },
  {
   "cell_type": "markdown",
   "metadata": {},
   "source": [
    "* Quel est l'objectif du programme? Quel est le résultat affiché par le programme ?"
   ]
  },
  {
   "cell_type": "markdown",
   "metadata": {},
   "source": [
    "**Réponses :**\n",
    "\n"
   ]
  },
  {
   "cell_type": "markdown",
   "metadata": {},
   "source": [
    "* Modifier le programme pour qu'il calcule et affiche $u_{63}$."
   ]
  },
  {
   "cell_type": "code",
   "execution_count": null,
   "metadata": {},
   "outputs": [],
   "source": []
  },
  {
   "cell_type": "markdown",
   "metadata": {},
   "source": [
    "**3°) Question 3 :** autres suites définies par une relation de récurrence\n",
    "* Soit $(u_n)$ la suite définie par $u_0=3$ et $u_{n+1}=0,9u_n+70$ pour tout $n\\ge0$. "
   ]
  },
  {
   "cell_type": "code",
   "execution_count": null,
   "metadata": {},
   "outputs": [],
   "source": []
  },
  {
   "cell_type": "markdown",
   "metadata": {},
   "source": [
    "**Réponses :**   $u_{50}=\\qquad\\qquad$ et    $u_{63}=\\qquad$"
   ]
  },
  {
   "cell_type": "markdown",
   "metadata": {},
   "source": [
    "* Soit $(u_n)$ la suite définie par $u_0=2$ et $u_{n}=1,3u_{n-1}-n+4$ pour tout $n\\ge1$. "
   ]
  },
  {
   "cell_type": "code",
   "execution_count": null,
   "metadata": {},
   "outputs": [],
   "source": []
  },
  {
   "cell_type": "markdown",
   "metadata": {},
   "source": [
    "**Réponses :**   $u_{50}=\\qquad\\qquad$ et    $u_{63}=\\qquad$"
   ]
  },
  {
   "cell_type": "markdown",
   "metadata": {},
   "source": [
    "**4°) Question 4 :** Définir une $fonction$ qui donne $u_n$ pour tout $n$      \n",
    "\n",
    "* Exécuter le programme pour déterminer le terme de rang 28 et celui de rang 122."
   ]
  },
  {
   "cell_type": "code",
   "execution_count": null,
   "metadata": {},
   "outputs": [],
   "source": [
    "def terme(n):\n",
    "    u=1\n",
    "    for i in range (1,n+1):\n",
    "        u=1.1*u+2\n",
    "    return u\n",
    "\n",
    "print(u(...))  #à compléter selon le rang n voulu avant d'éxécuter"
   ]
  },
  {
   "cell_type": "markdown",
   "metadata": {},
   "source": [
    "**Réponses :**   $u_{28}=\\qquad\\qquad$ et    $u_{122}=\\qquad$"
   ]
  },
  {
   "cell_type": "markdown",
   "metadata": {},
   "source": [
    "**5°) Question 5 :** Dépasser un seuil\n",
    "<br/>On travaille toujours avec la suite de la question 2. On admet qu'elle est croissante.\n",
    "* Déterminer le premier rang $n$ à partir duquel $u_n\\ge10000$.\n",
    "<br/>**Réponse :**"
   ]
  },
  {
   "cell_type": "markdown",
   "metadata": {},
   "source": [
    "* Créer puis exécuter un script pour déterminer le premier rang $n$ à partir duquel $u_n\\ge10000$ (on pourra utiliser l'instruction **while**)."
   ]
  },
  {
   "cell_type": "code",
   "execution_count": null,
   "metadata": {},
   "outputs": [],
   "source": []
  },
  {
   "cell_type": "markdown",
   "metadata": {},
   "source": [
    "* Créer une $fonction$ appelée **depasse(A)** qui donne le premier rang $n$ (on suppose qu'il existe) tel que $u_n\\ge A$ pour la suite précédente. Exécuter-le."
   ]
  },
  {
   "cell_type": "code",
   "execution_count": null,
   "metadata": {},
   "outputs": [],
   "source": []
  }
 ],
 "metadata": {
  "kernelspec": {
   "display_name": "Python 3",
   "language": "python",
   "name": "python3"
  },
  "language_info": {
   "codemirror_mode": {
    "name": "ipython",
    "version": 3
   },
   "file_extension": ".py",
   "mimetype": "text/x-python",
   "name": "python",
   "nbconvert_exporter": "python",
   "pygments_lexer": "ipython3",
   "version": "3.7.9"
  }
 },
 "nbformat": 4,
 "nbformat_minor": 4
}
